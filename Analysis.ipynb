{
  "nbformat": 4,
  "nbformat_minor": 0,
  "metadata": {
    "colab": {
      "provenance": [],
      "collapsed_sections": []
    },
    "kernelspec": {
      "name": "python3",
      "display_name": "Python 3"
    },
    "language_info": {
      "name": "python"
    },
    "gpuClass": "standard"
  },
  "cells": [
    {
      "cell_type": "code",
      "source": [
        "import os\n",
        "from google.colab import drive\n",
        "\n",
        "drive.mount('/content/drive')\n",
        "os.chdir('drive/My Drive/Colab Notebooks/MSc Dissertation')\n",
        "os.getcwd()"
      ],
      "metadata": {
        "id": "0SY21clNVJwq",
        "colab": {
          "base_uri": "https://localhost:8080/",
          "height": 53
        },
        "outputId": "2d5382d4-629c-4569-d582-5ec837d65bba"
      },
      "execution_count": null,
      "outputs": [
        {
          "output_type": "stream",
          "name": "stdout",
          "text": [
            "Mounted at /content/drive\n"
          ]
        },
        {
          "output_type": "execute_result",
          "data": {
            "text/plain": [
              "'/content/drive/My Drive/Colab Notebooks/MSc Dissertation'"
            ],
            "application/vnd.google.colaboratory.intrinsic+json": {
              "type": "string"
            }
          },
          "metadata": {},
          "execution_count": 1
        }
      ]
    },
    {
      "cell_type": "code",
      "source": [
        "#@title IMPORTS\n",
        "\n",
        "!pip install -U git+https://github.com/google/jax-cfd.git\n",
        "\n",
        "import os\n",
        "import datetime\n",
        "import pickle\n",
        "import tensorflow.keras as keras\n",
        "import tensorflow as tf\n",
        "import matplotlib.pyplot as plt\n",
        "import seaborn as sns\n",
        "import numpy as np\n",
        "from typing import Callable, Tuple, List, Union\n",
        "from functools import partial\n",
        "from collections import defaultdict\n",
        "import jax\n",
        "import jax.numpy as jnp\n",
        "import numpy as np\n",
        "import scipy\n",
        "import scipy.linalg as la\n",
        "import matplotlib\n",
        "from jax.experimental import optimizers\n",
        "\n",
        "Array = Union[np.ndarray, jnp.ndarray]\n",
        "\n",
        "from jax.config import config\n",
        "config.update(\"jax_enable_x64\", True)\n",
        "\n",
        "import jax_cfd.base  as cfd\n",
        "from jax_cfd.data import visualization\n",
        "from jax_cfd.data import xarray_utils as xru"
      ],
      "metadata": {
        "id": "I2DQkXaPJCZ1",
        "cellView": "form"
      },
      "execution_count": null,
      "outputs": []
    },
    {
      "cell_type": "code",
      "source": [
        "#@title MY FUNTIONS\n",
        "\n",
        "def energy1(traj) :\n",
        "  '''~\n",
        "Gives the absolute energy trajectory.\n",
        "  '''\n",
        "  x2 = traj[0].data**2 \n",
        "  y2 = traj[1].data**2 \n",
        "  e = np.sum( x2 + y2 , axis=(1,2))\n",
        "  e = ( e * (Lx/Nx) * (Ly/Ny) ) / (2 * Lx * Ly)\n",
        "  return e\n",
        "\n",
        "def energy2(traj) :\n",
        "  '''\n",
        "Gives the relative energy difference from the lamina state of each snapshot in a trajectory.\n",
        "  '''\n",
        "  y_vals = np.linspace(0,2*np.pi,Ny+2)[1:-1]\n",
        "  ulam = (1/(16*viscosity))*np.sin(4*y_vals)\n",
        "  ulam = ulam[:,np.newaxis]\n",
        "  x2 = (np.transpose(traj[0].data,axes=(0,2,1))-ulam)**2\n",
        "  y2 = np.transpose(traj[1].data,axes=(0,2,1))**2\n",
        "  e = np.sum( x2 + y2 , axis=(1,2))\n",
        "  e = ( e * (Lx/Nx) * (Ly/Ny) ) / (2 * Lx * Ly)\n",
        "  return e\n",
        "\n",
        "def quadrant_flip(M,axes=(1,2)) :\n",
        "  '''\n",
        "Swaps quadrants 1 with 4 and quadrant 2 with 3 for a matrix in\n",
        "axes specified.\n",
        "  '''\n",
        "  dims = len(M.shape)\n",
        "  half_x = M.shape[axes[1]]//2\n",
        "  half_y = M.shape[axes[0]]//2\n",
        "\n",
        "  def slice_(M,axes, start1, stop1, start2, stop2):\n",
        "    s = [slice(None) for i in range(M.ndim)]\n",
        "    s[axes[0]] = slice(start1, stop1)\n",
        "    s[axes[1]] = slice(start2, stop2)\n",
        "    s = tuple(s)\n",
        "    return s\n",
        "\n",
        "  s1 = slice_(M,axes,0,half_y,0,half_x)\n",
        "  s2 = slice_(M,axes,0,half_y,half_x,None)\n",
        "  s3 = slice_(M,axes,half_y,None,0,half_x)\n",
        "  s4 = slice_(M,axes,half_y,None,half_x,None)\n",
        "\n",
        "  q1 = M[s1]\n",
        "  q2 = M[s2]\n",
        "  q3 = M[s3]\n",
        "  q4 = M[s4]\n",
        "  \n",
        "\n",
        "  t = np.concatenate((q4,q3),axis=axes[1])\n",
        "  b = np.concatenate((q2,q1),axis=axes[1])\n",
        "  out = np.concatenate((t,b),axis=axes[0])\n",
        "\n",
        "  return out\n",
        "\n",
        "def Low_pass_filter(snapshot,cut_off) :\n",
        "  '''\n",
        "Takes in a velocity snapshot in the form of a 3D array (Ny,Nx,2), computes the 2D FFT of the array.\n",
        "Terms with wavenumber that exceed cut_off value will removed and the inverse FFT will be applied to \n",
        "return a a new filtered velocity snapshot.\n",
        "  '''\n",
        "  (Nx,Ny,_) = snapshot.shape\n",
        "  FT = np.fft.fft2(snapshot,axes=(0,1))   # Take FT of axes (2,1) to change coordinate indexing into row column indexing.\n",
        "  kx = 2*np.pi*np.fft.fftfreq(Nx,(2*np.pi)/Nx)\n",
        "  ky = 2*np.pi*np.fft.fftfreq(Ny,(2*np.pi)/Ny)\n",
        "  kx2 = kx**2\n",
        "  ky2 = ky**2\n",
        "  K_grid = np.sqrt( np.tile(kx2,(Ny,1)) + np.tile(np.array([ky2]).T,(1,Nx)) )\n",
        "  filtered = np.zeros((Ny,Nx,2),dtype=complex)\n",
        "  count = 0\n",
        "\n",
        "  for i in range(Nx) :      # Could make this a lot more efficient by (1) only doing for loop over square of points around zero after reordering (with side length 2*cut_off) (2) using symmetry properties.\n",
        "    \n",
        "    for j in range(Ny) :\n",
        "\n",
        "      if K_grid[i,j] <= cut_off :\n",
        "        count += 1\n",
        "        filtered[i,j] = FT[i,j]\n",
        "\n",
        "  return (np.real(np.fft.ifft2(filtered,axes=(0,1))),count)\n",
        "\n",
        "def LPF(data,cut_off) :\n",
        "\n",
        "    n_snaps = data.shape[0]\n",
        "\n",
        "    for i in range(n_snaps) :\n",
        "        (data[i] ,count) = Low_pass_filter(data[i],cut_off)\n",
        "\n",
        "    return (data,count)\n",
        "\n",
        "def xy_shift(snaps,x_shift,y_shift) :\n",
        "  \"\"\" \n",
        "  Shift field along a continuous symmetry \n",
        "  Assumes data is periodic, uniform grid etc\n",
        "  Takes an array as input with shape (n,Nx,Nx,2).\n",
        "  x_shift and y_shift can either both be floats\n",
        "  or both be lists/(one-dimensional arrays) of \n",
        "  length n.\n",
        "  +ve x_shift is to the right\n",
        "  +ve y_shift is down\n",
        "  \"\"\"\n",
        "  Nx,Ny = snaps.shape[1:3]\n",
        "  x_shift = np.array(x_shift)\n",
        "  y_shift = np.array(y_shift)\n",
        "\n",
        "  FT = np.fft.fft2(snaps,axes=(1,2))\n",
        "\n",
        "  kx = 2*np.pi*np.fft.fftfreq(Nx,(2*np.pi)/Nx)\n",
        "  ky = 2*np.pi*np.fft.fftfreq(Ny,(2*np.pi)/Ny)\n",
        "  Kx,Ky = np.meshgrid(kx,ky)\n",
        "\n",
        "  if type(x_shift) == (float or int) :\n",
        "    shift_factor = np.exp(-1j*(Kx*x_shift+Ky*y_shift))\n",
        "    shift_factor = np.expand_dims(shift_factor, (0,3))\n",
        "\n",
        "  else :    # Then assume 1d array of len n\n",
        "    x_shift, y_shift = x_shift[:,np.newaxis,np.newaxis], y_shift[:,np.newaxis,np.newaxis]\n",
        "    Kx, Ky = Kx[np.newaxis,:], Ky[np.newaxis,:]\n",
        "    shift_factor = np.exp(-1j*(Kx*x_shift+Ky*y_shift))\n",
        "    shift_factor = shift_factor[:,:,:,np.newaxis]\n",
        "\n",
        "  FT_shifted = shift_factor*FT\n",
        "  shifted = np.real(np.fft.ifft2(FT_shifted,axes=(1,2)))\n",
        "\n",
        "  return shifted\n",
        "\n",
        "def augment(Arr) :\n",
        "  '''\n",
        "Augment data of shape (n,256,256,2) into shape\n",
        "(4n,256,256,2) where the extra entries arise from shifting in y by pi/2\n",
        ",pi and 3pi/2 (with random, continuous x-shift applied after ).\n",
        "  '''\n",
        "  n = Arr.shape[0]\n",
        "  y_shifts = (np.pi/2)*np.ones(n)\n",
        "  x_shifts = np.random.uniform(0,2*np.pi,n)\n",
        "  augmented = xy_shift(np.copy(Arr),x_shifts,np.zeros(n)) # Shift first n snapshots in x randomly (not in y)\n",
        "\n",
        "  for i in range(1,4) :\n",
        "    x_shifts = np.random.uniform(0,2*np.pi,n)\n",
        "    add = xy_shift(Arr,x_shifts,i*y_shifts)\n",
        "    augmented = np.concatenate((augmented,add),axis=0)\n",
        "  \n",
        "  return augmented\n",
        "\n",
        "def vis(snapshot,minmax=10) :\n",
        "  ''' \n",
        "  visualise the vorticity field of a snapshot\n",
        "  with dimension (Ny,Nx,2)\n",
        "  '''\n",
        "  (Nx,Ny,_) = snapshot.shape\n",
        "\n",
        "  fig, axs = plt.subplots(1,figsize=(10,8))\n",
        "  axs.set_xlabel('x',fontsize=20)\n",
        "  axs.set_ylabel('y',fontsize=20)\n",
        "  snapshot_T = snapshot.T\n",
        "  xarray = xru.velocity_trajectory_to_xarray(\n",
        "  tuple([snapshot_T[0:1,:,:],snapshot_T[1:2,:,:]]),\n",
        "  grid)\n",
        "  vort = xarray.pipe(vorticity).data.T\n",
        "\n",
        "  im = axs.imshow(vort[:,:,0], cmap=sns.cm.icefire,vmin=-minmax, vmax=minmax,extent=[0,2*np.pi,0,2*np.pi],origin='lower')\n",
        "\n",
        "  fig.subplots_adjust(right=0.8)\n",
        "  cbar_ax = fig.add_axes([0.85, 0.12, 0.03, 0.77])\n",
        "  fig.colorbar(im, cax=cbar_ax)#,label='Vorticity')\n",
        "  cbar_ax.get_yaxis().labelpad = 27\n",
        "  cbar_ax.set_ylabel('Vorticity', rotation=270,fontsize=20)\n",
        "\n",
        "  return fig,axs\n",
        "\n",
        "def Vis_before_and_after(snapshot,cut_off) :\n",
        "  '''\n",
        "  Takes a (Ny,Nx,2) shaped velocity snapshot array and returns a visualisation \n",
        "  of the vorticity before and after the application of a low-pass filter.\n",
        "  The low-pass filter cuts off wavenumbers where |k| > cut_off.\n",
        "  '''\n",
        "  (Nx,Ny,_) = snapshot.shape\n",
        "\n",
        "  # Initial vorticity visualisation :\n",
        "  fig, axs = plt.subplots(1,2,figsize=(15,6.5))\n",
        "\n",
        "  snapshot_T = snapshot.T\n",
        "  xarray = xru.velocity_trajectory_to_xarray(\n",
        "  tuple([snapshot_T[0:1,:,:],snapshot_T[1:2,:,:]]),\n",
        "  grid)\n",
        "  vort = xarray.pipe(vorticity).data.T\n",
        "\n",
        "  axs[0].imshow(vort[:,:,0], cmap=sns.cm.icefire,vmin=-10, vmax=10,extent=[0,2*np.pi,0,2*np.pi],origin='lower')\n",
        "  axs[0].set_title('Before filterisation',fontsize=24,y=1.03)\n",
        "  axs[0].xaxis.labelpad = 18\n",
        "  axs[0].tick_params(axis='both', which='major', labelsize=16)\n",
        "  axs[0].set_xlabel(r\"$x$\",fontsize=25)\n",
        "  axs[0].set_ylabel(r\"$y$\",fontsize=25)\n",
        "  axs[0].yaxis.labelpad = 34\n",
        "\n",
        "  # Put snapshot through Low-pass filter :\n",
        "  after = Low_pass_filter(snapshot,cut_off)[0]\n",
        "  after_T = after.T\n",
        "\n",
        "  # Visualise filtered vorticity :\n",
        "  xarray = xru.velocity_trajectory_to_xarray(\n",
        "  tuple([after_T[0:1,:,:],after_T[1:2,:,:]]),\n",
        "  grid)\n",
        "  vort = xarray.pipe(vorticity).data.T\n",
        "\n",
        "  im = axs[1].imshow(vort[:,:,0], cmap=sns.cm.icefire,vmin=-10, vmax=10,extent=[0,2*np.pi,0,2*np.pi],origin='lower')\n",
        "  axs[1].set_title('After filterisation',fontsize=24,y=1.03)\n",
        "  axs[1].xaxis.labelpad = 18\n",
        "  axs[1].tick_params(axis='both', which='major', labelsize=16)\n",
        "  axs[1].set_xlabel(r\"$x$\",fontsize=25)\n",
        "\n",
        "  # Get colourbar\n",
        "  fig.subplots_adjust(right=0.8)\n",
        "  cbar_ax = fig.add_axes([0.84, 0.14, 0.03, 0.71])\n",
        "  fig.colorbar(im, cax=cbar_ax)\n",
        "  cbar_ax.get_yaxis().labelpad = 34\n",
        "  cbar_ax.set_ylabel('Vorticity', rotation=270,fontsize=25)\n",
        "  cbar_ax.tick_params(axis='both', which='major', labelsize=16)\n",
        "\n",
        "\n",
        "  return fig,axs\n",
        "\n",
        "def read_log(filename):\n",
        "  \n",
        "  fileObj = open(filename, \"r\")\n",
        "  S = fileObj.read()\n",
        "  fileObj.close()\n",
        "  S = S.replace(\"   \", \" \").replace(\"  \",\" \")\n",
        "\n",
        "  train_val_test = []\n",
        "\n",
        "  for i in range(2) :\n",
        "    start_list_1 = S.index('[')\n",
        "    end_list_1 = S.index(']')\n",
        "    dummy = S[start_list_1+1:end_list_1]\n",
        "    dummy = dummy.replace('\\n','')\n",
        "    dummy = dummy.split(' ')\n",
        "    d_len = len(dummy)\n",
        "    for i in range(d_len) :\n",
        "      if dummy[i] == \"\" :\n",
        "        dummy.pop(i)\n",
        "    dummy = list(map(float, dummy))\n",
        "    train_val_test.append(dummy)\n",
        "    S = S[end_list_1+1:]\n",
        "\n",
        "  test_rmse_index = S.index('=') + 2\n",
        "  test_rmse = S[test_rmse_index:test_rmse_index+5].replace('\\\\','').replace('n','')\n",
        "  train_val_test.append(float(test_rmse))\n",
        "\n",
        "  return train_val_test"
      ],
      "metadata": {
        "id": "WYWYAMeRWCQC",
        "cellView": "form"
      },
      "execution_count": null,
      "outputs": []
    },
    {
      "cell_type": "code",
      "source": [
        "#@title JACOB'S FUNCTIONS\n",
        "\n",
        "\n",
        "def jnp_to_gv_tuple(u_jnp: Array, offsets: List[Tuple], \n",
        "                    grid: cfd.grids.Grid, bc: cfd.grids.BoundaryConditions) -> Tuple[cfd.grids.GridVariable]:\n",
        "    gv_list = []\n",
        "    for i in range(u_jnp.shape[-1]):\n",
        "        garr = cfd.grids.GridArray(u_jnp[..., i], offsets[i], grid)\n",
        "        gv_list.append(cfd.grids.GridVariable(garr, bc))\n",
        "    return tuple(gv_list)\n",
        "\n",
        "def gv_tuple_to_jnp(gv_tuple: Tuple[cfd.grids.GridVariable]) -> Tuple[Array, List[Tuple]]:\n",
        "    u_jnp = jnp.stack([gv.data for gv in gv_tuple], axis=-1)\n",
        "    offsets = [gv.offset for gv in gv_tuple]\n",
        "    return u_jnp, offsets\n",
        "\n",
        "def generate_time_forward_map(viscosity: float, T: float) -> Callable[[Tuple[cfd.grids.GridVariable]], Tuple[cfd.grids.GridVariable]]:\n",
        "    N_steps = jnp.floor(T / dt_stable)\n",
        "    dt_exact = T / N_steps\n",
        "\n",
        "    def convect(v): \n",
        "        return tuple(cfd.advection.advect_linear(u, v, dt_exact) for u in v)\n",
        "\n",
        "    time_forward_map = cfd.funcutils.repeated(\n",
        "        cfd.equations.semi_implicit_navier_stokes(\n",
        "            density=density, viscosity=viscosity, dt=dt_exact, grid=grid, forcing=kolmogorov, convect=convect),\n",
        "        steps=N_steps)\n",
        "    return jax.jit(time_forward_map)\n",
        "\n",
        "def apply_forward_map_T(u_initial: Tuple[cfd.grids.GridVariable], \n",
        "                        T: float, t_substep=.1) -> Tuple[cfd.grids.GridVariable]:\n",
        "    \"\"\" Advance solution forward T by repeated application a forward map over t_substep \"\"\" \n",
        "    N_substeps = jnp.floor(T / t_substep)\n",
        "    t_remains = T - (N_substeps - 1) * t_substep # make sure we always have > one substep remaining\n",
        "\n",
        "    map_substep = generate_time_forward_map(viscosity, t_substep)\n",
        "    map_bulk = jax.jit(cfd.funcutils.repeated(jax.remat(map_substep), steps=N_substeps-1))\n",
        "    u_bulk = map_bulk(u_initial)\n",
        "    map_remain = generate_time_forward_map(viscosity, t_remains)\n",
        "    u_final = map_remain(u_bulk)\n",
        "    return u_final  \n",
        "\n",
        "\n",
        "def generate_trajectory_fn(viscosity: float, T: float):\n",
        "  \"\"\" Note approximate T here, this is for RFA. dt_snap = 1 [needs updating] \"\"\"  \n",
        "  N_steps_total = jnp.floor(T / dt_stable) #T // dt_stable\n",
        "  dt_exact = T / N_steps_total\n",
        "\n",
        "  N_steps_per_substep = jnp.floor(1. / dt_exact)\n",
        "  N_substeps = N_steps_total // N_steps_per_substep\n",
        "\n",
        "  def convect(v): \n",
        "    return tuple(cfd.advection.advect_linear(u, v, dt_exact) for u in v)\n",
        "\n",
        "  step_fn = cfd.funcutils.repeated(\n",
        "      cfd.equations.semi_implicit_navier_stokes(\n",
        "          density=density, viscosity=viscosity, dt=dt_exact, grid=grid, forcing=kolmogorov, convect=convect),\n",
        "          steps=N_steps_per_substep)\n",
        "  \n",
        "  trajectory_fn = jax.jit(cfd.funcutils.trajectory(jax.remat(step_fn), N_substeps)) \n",
        "  return trajectory_fn\n",
        "\n",
        "def vorticity(ds):\n",
        "  return (ds.v.differentiate('x') - ds.u.differentiate('y')).rename('vorticity')\n"
      ],
      "metadata": {
        "cellView": "form",
        "id": "sX3I6RHsi5wO"
      },
      "execution_count": null,
      "outputs": []
    },
    {
      "cell_type": "markdown",
      "source": [
        "# FOURIER PLOTS"
      ],
      "metadata": {
        "id": "Ka87djf7mkJV"
      }
    },
    {
      "cell_type": "code",
      "source": [
        "#@title Generate and store trajectory of length T for specified Re \n",
        "\n",
        "Nx = 256\n",
        "Ny = 256\n",
        "Lx = 2 * jnp.pi\n",
        "Ly = 2 * jnp.pi\n",
        "\n",
        "density = 1.\n",
        "n_waves = 4 # number of forcing wavelengths\n",
        "grid = cfd.grids.Grid((Nx, Ny), domain=((0, Lx), (0, Ly)))\n",
        "max_velocity = 5.0\n",
        "kolmogorov = cfd.forcings.kolmogorov_forcing(grid, k=n_waves)\n",
        "\n",
        "\n",
        "trajs = []\n",
        "Re = (30,55,80)\n",
        "T = 200\n",
        "burnin = 100\n",
        "\n",
        "for i in Re :\n",
        "  viscosity = 1/i\n",
        "  dt_stable = cfd.equations.stable_time_step(max_velocity, 0.5, viscosity, grid) / 2. # should take care here\n",
        "  seed = np.random.randint(0,1000)\n",
        "  v0 = cfd.initial_conditions.filtered_velocity_field(jax.random.PRNGKey(seed), grid, 5.)\n",
        "\n",
        "\n",
        "  rollout_fn = jax.jit(generate_trajectory_fn(viscosity, T))\n",
        "  %time _, trajectory = jax.device_get(rollout_fn(v0))\n",
        "\n",
        "  u = np.transpose(trajectory[0].data,axes=(0,2,1))[burnin:]          # Take transpose to give correct indexing for u and v\n",
        "  v = np.transpose(trajectory[1].data,axes=(0,2,1))[burnin:]\n",
        "\n",
        "  trajs.append([u,v])"
      ],
      "metadata": {
        "cellView": "form",
        "id": "cnYpcssgmnxG",
        "colab": {
          "base_uri": "https://localhost:8080/",
          "height": 235
        },
        "outputId": "ab8cec36-a0b0-4ecc-f3c8-4844a0634874"
      },
      "execution_count": 1,
      "outputs": [
        {
          "output_type": "error",
          "ename": "NameError",
          "evalue": "ignored",
          "traceback": [
            "\u001b[0;31m---------------------------------------------------------------------------\u001b[0m",
            "\u001b[0;31mNameError\u001b[0m                                 Traceback (most recent call last)",
            "\u001b[0;32m<ipython-input-1-3cf0aaad8148>\u001b[0m in \u001b[0;36m<module>\u001b[0;34m\u001b[0m\n\u001b[1;32m      3\u001b[0m \u001b[0mNx\u001b[0m \u001b[0;34m=\u001b[0m \u001b[0;36m256\u001b[0m\u001b[0;34m\u001b[0m\u001b[0;34m\u001b[0m\u001b[0m\n\u001b[1;32m      4\u001b[0m \u001b[0mNy\u001b[0m \u001b[0;34m=\u001b[0m \u001b[0;36m256\u001b[0m\u001b[0;34m\u001b[0m\u001b[0;34m\u001b[0m\u001b[0m\n\u001b[0;32m----> 5\u001b[0;31m \u001b[0mLx\u001b[0m \u001b[0;34m=\u001b[0m \u001b[0;36m2\u001b[0m \u001b[0;34m*\u001b[0m \u001b[0mjnp\u001b[0m\u001b[0;34m.\u001b[0m\u001b[0mpi\u001b[0m\u001b[0;34m\u001b[0m\u001b[0;34m\u001b[0m\u001b[0m\n\u001b[0m\u001b[1;32m      6\u001b[0m \u001b[0mLy\u001b[0m \u001b[0;34m=\u001b[0m \u001b[0;36m2\u001b[0m \u001b[0;34m*\u001b[0m \u001b[0mjnp\u001b[0m\u001b[0;34m.\u001b[0m\u001b[0mpi\u001b[0m\u001b[0;34m\u001b[0m\u001b[0;34m\u001b[0m\u001b[0m\n\u001b[1;32m      7\u001b[0m \u001b[0;34m\u001b[0m\u001b[0m\n",
            "\u001b[0;31mNameError\u001b[0m: name 'jnp' is not defined"
          ]
        }
      ]
    },
    {
      "cell_type": "code",
      "source": [
        "#@title 2d Fourier spectra at Re = (...) \n",
        "\n",
        "\n",
        "fig, ax= plt.subplots(1,3,figsize=(20,5.5))\n",
        "plt.suptitle(f'Energy spectra - 2D',fontsize=30, y=1.04)\n",
        "ax[0].set_ylabel(r\"$K_{y}$\",fontsize=20)\n",
        "ax[0].yaxis.labelpad = 5\n",
        "\n",
        "e_means = []\n",
        "\n",
        "for i in range(3) :\n",
        "  u = trajs[i][0]\n",
        "  v = trajs[i][1]\n",
        "\n",
        "  FT_u = (1/(Nx*Ny))*quadrant_flip(np.fft.fft2(u, axes=(1,2)),axes=(1,2))\n",
        "  FT_v = (1/(Nx*Ny))*quadrant_flip(np.fft.fft2(v, axes=(1,2)),axes=(1,2))\n",
        "  e_kx_ky = (np.abs(FT_u)**2 + np.abs(FT_v)**2)/2\n",
        "  e_mean = np.mean(e_kx_ky,axis=0)\n",
        "  e_means.append(e_mean)\n",
        "  im = ax[i].imshow(np.log(e_means[i]),origin='lower',extent=[-127,128,-127,128]) # ,vmin=0,vmax=0.00001\n",
        "  ax[i].set_xlabel(r\"$K_{x}$\",fontsize=20)\n",
        "  ax[i].set_title(f'Re = {Re[i]}',fontsize=28)\n",
        "  ax[i].xaxis.labelpad = 18\n",
        "fig.subplots_adjust(right=0.8)\n",
        "cbar_ax = fig.add_axes([0.835, 0.14, 0.03, 0.715])\n",
        "fig.colorbar(im,cax=cbar_ax)\n",
        "cbar_ax.get_yaxis().labelpad = 33\n",
        "cbar_ax.set_ylabel(r'$log ( \\hat{e} )$', rotation=270,fontsize=20)\n",
        "\n",
        "#plt.savefig('2d_spectra.svg', format='svg', bbox_inches='tight')"
      ],
      "metadata": {
        "id": "cagl_5ClmtwO",
        "cellView": "form"
      },
      "execution_count": null,
      "outputs": []
    },
    {
      "cell_type": "code",
      "source": [
        "#@title 1d Fourier spectra\n",
        "\n",
        "\n",
        "fig, ax= plt.subplots(1,figsize=(10,10))\n",
        "ax.set_title(f'Energy spectra - 1D',fontsize=30,y=1.04)\n",
        "ax.set_ylabel(r'$D(n)$',fontsize=20)\n",
        "ax.set_xlabel(r'$n$',fontsize=20)\n",
        "ax.yaxis.labelpad = 18\n",
        "ax.xaxis.labelpad = 18\n",
        "ax.set(yscale=\"log\")\n",
        "ax.set(ylim=(1e-28, 100))\n",
        "ax.set(xlim=(-5, 150))\n",
        "\n",
        "def default_value():\n",
        "    return 0\n",
        "def zero() :\n",
        "  return 0 \n",
        "\n",
        "# Forming an array of wavenumber magnitudes to correspond to the FT_u and FT_v arrays.\n",
        "kx = 2*np.pi*np.fft.fftfreq(Nx,Lx/Nx)\n",
        "ky = 2*np.pi*np.fft.fftfreq(Ny,Ly/Ny)\n",
        "# Reordering kx into ascending wavenumber order.\n",
        "kx = np.concatenate((kx[Nx//2:],kx[0:Nx//2]))\n",
        "ky = np.concatenate((ky[Ny//2:],ky[0:Ny//2]))\n",
        "kx2 = kx**2\n",
        "ky2 = ky**2\n",
        "K_grid = np.sqrt( np.tile(kx2,(Ny,1)) + np.tile(np.array([ky2]).T,(1,Nx)) )\n",
        "K_grid_rounded = K_grid.round().astype(int)   # This is used to match with CK13 graphic.\n",
        "K_grid_sqd = np.power(K_grid,2).astype(int)\n",
        "\n",
        "# In dictionary K_coeffs the keys are the wavenumber magnitudes squared and \n",
        "# the values are the FT coefficient 'energies'\n",
        "\n",
        "\n",
        "\n",
        "for k in range(len(trajs)) :\n",
        "  energy_dict = defaultdict(default_value)\n",
        "  e_kx_ky = e_means[k]\n",
        "  for i in range(Ny):\n",
        "    energy_dict[K_grid_rounded[i,0]] += e_kx_ky[i,0]    # First column does not match with a -k, so is not doubled.\n",
        "\n",
        "    for j in range(1,Nx//2+1):                        \n",
        "      energy_dict[K_grid_rounded[i,j]] += 2*e_kx_ky[i,j]    # Using symmetry E(-k)=E(k) so all these values are doubled.\n",
        "\n",
        "  energy_dict[K_grid_rounded[Ny//2,Nx//2]] = energy_dict[K_grid_rounded[Nx//2,Ny//2]]/2    # These values were double counted. ( (0,128) , (128,128) )\n",
        "  energy_dict[K_grid_rounded[0,Ny//2]] = energy_dict[K_grid_rounded[0,Ny//2]]/2\n",
        "\n",
        "  # Extracting data from the Wavenumber dictionary.\n",
        "  # Coefficient values get placed into an array where each row is the spectrum for\n",
        "  # a time step (ascending order in time) \n",
        "\n",
        "  wavenumbers = list(energy_dict.keys())\n",
        "  coeffs=list(energy_dict.values())\n",
        "  ax = sns.scatterplot(wavenumbers,coeffs,label=f'Re = {Re[k]}')\n",
        "plt.legend(fontsize=20)\n",
        "\n",
        "#plt.savefig('1d_spectra.svg', format='svg', bbox_inches='tight')"
      ],
      "metadata": {
        "cellView": "form",
        "id": "ls5TxTMrm0Tl"
      },
      "execution_count": null,
      "outputs": []
    },
    {
      "cell_type": "markdown",
      "source": [
        "#RESULTS PLOTS"
      ],
      "metadata": {
        "id": "YkcZYm3pbIAS"
      }
    },
    {
      "cell_type": "code",
      "source": [
        "LR = 1\n",
        "Data = 3\n",
        "Model = 1"
      ],
      "metadata": {
        "id": "4xl24fMgNIxd"
      },
      "execution_count": null,
      "outputs": []
    },
    {
      "cell_type": "code",
      "source": [
        "#@title Training, validation, testing plot\n",
        "\n",
        "train,val,test = read_log(f\"Model_logs/LR_{LR}/log_D{Data}_M{Model}.txt\")\n",
        "\n",
        "blue = sns.color_palette('muted')[0]\n",
        "green = sns.color_palette('muted')[2]\n",
        "red = sns.color_palette('muted')[3]\n",
        "\n",
        "fig, ax = plt.subplots(1,figsize=(16,10))\n",
        "w = 4\n",
        "epochs = len(train)\n",
        "\n",
        "sns.lineplot(x=list(range(epochs)),y=train,ax=ax,label=\"training\",linewidth=w,color=blue)\n",
        "sns.lineplot(x=list(range(epochs)),y=val,ax=ax,label=\"validation\",linewidth=w,color=green)\n",
        "ax.axhline(test,label='testing',color=red,linewidth=w).set_linestyle(\"--\")\n",
        "\n",
        "\n",
        "# Styling :\n",
        "# ax.set_title(f'Energy spectra - 1D',fontsize=30,y=1.04)\n",
        "ax.set_ylabel('RMSE',fontsize=30)\n",
        "ax.set_xlabel(\"Epoch\",fontsize=30)\n",
        "ax.yaxis.labelpad = 18\n",
        "ax.xaxis.labelpad = 18\n",
        "#ax.set(ylim=(0,5))\n",
        "ax.set(xlim=(0, 200))\n",
        "ax.tick_params(labelsize=20)\n",
        "plt.legend(fontsize=30)\n",
        "\n",
        "\n",
        "# plt.savefig('Train_val_test_LR3_D3_M3.svg', format='svg', bbox_inches='tight')"
      ],
      "metadata": {
        "id": "zCLUHYgC2umw",
        "cellView": "form"
      },
      "execution_count": null,
      "outputs": []
    },
    {
      "cell_type": "code",
      "source": [
        "#@title Comparing Learning rates\n",
        "\n",
        "train,val,test = read_log(f\"Model_logs/LR_{1}/log_D{Data}_M{Model}.txt\")\n",
        "train2,val,test = read_log(f\"Model_logs/LR_{2}/log_D{Data}_M{Model}.txt\")\n",
        "\n",
        "blue = sns.color_palette('bright')[0]\n",
        "lblue = sns.color_palette('muted')[9]\n",
        "red = sns.color_palette('muted')[3]\n",
        "\n",
        "fig, ax = plt.subplots(1,figsize=(16,10))\n",
        "w = 4\n",
        "epochs = len(train)\n",
        "\n",
        "sns.lineplot(x=list(range(epochs)),y=train,ax=ax,label=r\"$\\alpha=1\\times10^{-3}$\",linewidth=w,color=blue)\n",
        "sns.lineplot(x=list(range(epochs)),y=train2,ax=ax,label=r\"$\\alpha=4\\times10^{-3}$\",linewidth=w,color=lblue)\n",
        "\n",
        "# Styling :\n",
        "# ax.set_title(f'Energy spectra - 1D',fontsize=30,y=1.04)\n",
        "ax.set_ylabel('RMSE',fontsize=30)\n",
        "ax.set_xlabel(\"Epoch\",fontsize=30)\n",
        "ax.yaxis.labelpad = 18\n",
        "ax.xaxis.labelpad = 18\n",
        "#ax.set(ylim=(0,5))\n",
        "ax.set(xlim=(0, 200))\n",
        "ax.tick_params(labelsize=20)\n",
        "plt.legend(fontsize=30)\n",
        "\n",
        "# plt.savefig('Learning_rates_D3_M1.svg', format='svg', bbox_inches='tight')"
      ],
      "metadata": {
        "cellView": "form",
        "id": "pOPf4ss-32-X"
      },
      "execution_count": null,
      "outputs": []
    },
    {
      "cell_type": "code",
      "source": [
        "#@title Training data spread\n",
        "\n",
        "\n",
        "file = open('y_train_test_20_13.pickle','rb')\n",
        "(y_train1,y_test1) = pickle.load( file )\n",
        "file.close()\n",
        "\n",
        "file = open('y_train_test_20_15.pickle','rb')\n",
        "(y_train2,y_test2) = pickle.load( file )\n",
        "file.close()\n",
        "\n",
        "file = open('y_train_test_30_12.pickle','rb')\n",
        "(y_train3,y_test3) = pickle.load( file )\n",
        "file.close()\n",
        "\n",
        "y_train = np.concatenate((y_train1,y_train2,y_train3))\n",
        "y_test = np.concatenate((y_test1,y_test2,y_test3))\n",
        "\n",
        "fig, ax = plt.subplots(1,2,figsize = (20,5))\n",
        "\n",
        "sns.histplot(y_train,bins=20,ax=ax[0])\n",
        "sns.histplot(y_test,bins=20,ax=ax[1])"
      ],
      "metadata": {
        "cellView": "form",
        "id": "4gbk3bzHV7kq"
      },
      "execution_count": null,
      "outputs": []
    },
    {
      "cell_type": "markdown",
      "source": [
        "# TESTING PLOTS"
      ],
      "metadata": {
        "id": "5Y4Qw1nubC_r"
      }
    },
    {
      "cell_type": "code",
      "source": [
        "#@title Import predictions data (LR3_D3_M3) and set up  \n",
        "\n",
        "file = open( 'Data/predictions.pickle', 'rb' )\n",
        "(predictions,y_test) = pickle.load( file )\n",
        "\n",
        "n = len(predictions)\n",
        "\n",
        "diff = predictions - y_test"
      ],
      "metadata": {
        "id": "Xp0iQwY0Bq5o",
        "cellView": "form"
      },
      "execution_count": null,
      "outputs": []
    },
    {
      "cell_type": "code",
      "source": [
        "np.sqrt(np.sum((predictions-y_test)**2)/n)"
      ],
      "metadata": {
        "colab": {
          "base_uri": "https://localhost:8080/"
        },
        "id": "bDaNpX3jzqpI",
        "outputId": "a265d75c-4c98-44a9-9a58-8f1e9074b88b"
      },
      "execution_count": null,
      "outputs": [
        {
          "output_type": "execute_result",
          "data": {
            "text/plain": [
              "2.4056120885362478"
            ]
          },
          "metadata": {},
          "execution_count": 31
        }
      ]
    },
    {
      "cell_type": "code",
      "source": [
        "#@title All errors histogram\n",
        "\n",
        "fig, axis = plt.subplots(1,2,figsize=(18,6),gridspec_kw={'width_ratios': [1,1.2]})\n",
        "plt.suptitle('Unfiltered',fontsize=30)\n",
        "\n",
        "bin_w = 1\n",
        "bins = int(50/bin_w) +1\n",
        "bias = np.zeros(bins)\n",
        "count = np.zeros(bins)\n",
        "\n",
        "for i in range(n) :\n",
        "  bin = int( (y_test[i] - 29.99)//bin_w )\n",
        "  bias[bin] += diff[i]\n",
        "  count[bin] += 1\n",
        "\n",
        "bias = bias/count\n",
        "\n",
        "Range = (50*(np.array((range(bins)))/bins))+30\n",
        "\n",
        "axis[0].bar(Range,bias)\n",
        "axis[0].set(ylim=(-4.2,4.5))\n",
        "\n",
        "\n",
        "\n",
        "sns.histplot(x=y_test,y=diff,bins=51,cbar=True,ax=axis[1])\n",
        "\n",
        "axis[1].axhline(0,color='black',linewidth=2).set_linestyle(\"--\")\n",
        "\n",
        "axis[0].set_ylabel(\"bias\",fontsize=25)\n",
        "axis[1].set_xlabel(\"Re\",fontsize=25)\n",
        "axis[0].set_xlabel(\"Re\",fontsize=25)\n",
        "axis[0].yaxis.labelpad = 5\n",
        "axis[1].xaxis.labelpad = 20\n",
        "axis[0].xaxis.labelpad = 20\n",
        "axis[0].tick_params(labelsize=20)\n",
        "axis[1].tick_params(labelsize=20)\n",
        "\n",
        "fig.savefig('pred_bias.svg', bbox_inches='tight')"
      ],
      "metadata": {
        "colab": {
          "base_uri": "https://localhost:8080/",
          "height": 470
        },
        "id": "lwClx3QKcN5R",
        "outputId": "98d9c42d-762b-4796-a57c-243946a07702",
        "cellView": "form"
      },
      "execution_count": null,
      "outputs": [
        {
          "output_type": "display_data",
          "data": {
            "text/plain": [
              "<Figure size 1296x432 with 3 Axes>"
            ],
            "image/png": "[encoded data removed]"
          },
          "metadata": {
            "needs_background": "light"
          }
        }
      ]
    },
    {
      "cell_type": "code",
      "source": [
        "#@title RMSE (of each bin) histogram\n",
        "\n",
        "fig, axis = plt.subplots(1,1,figsize=(10,6))\n",
        "axis.set_title('Unfiltered',fontsize=30,y=1.04)\n",
        "red = sns.color_palette('muted')[3]\n",
        "\n",
        "se = (diff**2)\n",
        "bin_w = 3\n",
        "bins = int(51/bin_w)\n",
        "sum_se = np.zeros(bins)\n",
        "count = np.zeros(bins)\n",
        "\n",
        "for i in range(n) :\n",
        "  bin = int( (y_test[i] - 30)//bin_w )\n",
        "  sum_se[bin] += se[i]\n",
        "  count[bin] += 1\n",
        "\n",
        "\n",
        "\n",
        "mse = sum_se/count\n",
        "rmse = np.sqrt(mse)\n",
        "\n",
        "Range = ((51*(np.array((range(bins)))/bins))+31).astype(int)\n",
        "\n",
        "sns.barplot(Range,rmse,color=red,ax=axis)\n",
        "\n",
        "\n",
        "axis.set_ylabel(r\"$\\mathrm{RMSE}_{\\mathrm{I}}$\",fontsize=25)\n",
        "axis.set_xlabel(r\"Re\",fontsize=25)\n",
        "axis.yaxis.labelpad = 35\n",
        "axis.xaxis.labelpad = 20\n",
        "axis.tick_params(labelsize=20)\n",
        "\n",
        "fig.savefig('pred_rmse.svg', bbox_inches='tight')"
      ],
      "metadata": {
        "id": "cjo5L8kxchrE",
        "colab": {
          "base_uri": "https://localhost:8080/",
          "height": 524
        },
        "outputId": "794732a7-474b-4766-8a21-fc723b8b396c",
        "cellView": "form"
      },
      "execution_count": null,
      "outputs": [
        {
          "output_type": "stream",
          "name": "stderr",
          "text": [
            "/usr/local/lib/python3.7/dist-packages/seaborn/_decorators.py:43: FutureWarning: Pass the following variables as keyword args: x, y. From version 0.12, the only valid positional argument will be `data`, and passing other arguments without an explicit keyword will result in an error or misinterpretation.\n",
            "  FutureWarning\n"
          ]
        },
        {
          "output_type": "display_data",
          "data": {
            "text/plain": [
              "<Figure size 720x432 with 1 Axes>"
            ],
            "image/png": "[encoded data removed]"
          },
          "metadata": {
            "needs_background": "light"
          }
        }
      ]
    },
    {
      "cell_type": "markdown",
      "source": [
        "# LOW PASS FILTER PLOTS"
      ],
      "metadata": {
        "id": "JPWbfKUJdj2U"
      }
    },
    {
      "cell_type": "code",
      "source": [
        "#@title Generate and store trajectory of length T for specified Re \n",
        "\n",
        "Nx = 256\n",
        "Ny = 256\n",
        "Lx = 2 * jnp.pi\n",
        "Ly = 2 * jnp.pi\n",
        "\n",
        "density = 1.\n",
        "n_waves = 4 # number of forcing wavelengths\n",
        "grid = cfd.grids.Grid((Nx, Ny), domain=((0, Lx), (0, Ly)))\n",
        "max_velocity = 5.0\n",
        "kolmogorov = cfd.forcings.kolmogorov_forcing(grid, k=n_waves)\n",
        "\n",
        "\n",
        "Re = 50\n",
        "T = 200\n",
        "burnin = 100\n",
        "\n",
        "viscosity = 1/Re\n",
        "dt_stable = cfd.equations.stable_time_step(max_velocity, 0.5, viscosity, grid) / 2. # should take care here\n",
        "seed = np.random.randint(0,1000)\n",
        "v0 = cfd.initial_conditions.filtered_velocity_field(jax.random.PRNGKey(seed), grid, 5.)\n",
        "\n",
        "\n",
        "rollout_fn = jax.jit(generate_trajectory_fn(viscosity, T))\n",
        "%time _, trajectory = jax.device_get(rollout_fn(v0))\n",
        "\n",
        "u = np.transpose(trajectory[0].data,axes=(0,2,1))[burnin:]          # Take transpose to give correct indexing for u and v\n",
        "v = np.transpose(trajectory[1].data,axes=(0,2,1))[burnin:]\n",
        "\n",
        "traj = ([u,v])"
      ],
      "metadata": {
        "colab": {
          "base_uri": "https://localhost:8080/"
        },
        "id": "Yc8byyq9hPzl",
        "outputId": "1c355381-97f5-4625-b15e-e4ed2aca9452",
        "cellView": "form"
      },
      "execution_count": null,
      "outputs": [
        {
          "output_type": "stream",
          "name": "stdout",
          "text": [
            "CPU times: user 11min 4s, sys: 35.3 s, total: 11min 40s\n",
            "Wall time: 8min 24s\n"
          ]
        }
      ]
    },
    {
      "cell_type": "code",
      "source": [
        "#@title Before and after filter\n",
        "\n",
        "t = 60\n",
        "cut_off = 5\n",
        "\n",
        "u = traj[0][t]\n",
        "v = traj[1][t]\n",
        "\n",
        "snapshot = np.concatenate((u[:,:,np.newaxis],v[:,:,np.newaxis]),axis=2)\n",
        "print(snapshot.shape)\n",
        "\n",
        "Vis_before_and_after(snapshot,cut_off)\n",
        "\n",
        "plt.savefig('filterisation_5.svg', format='svg', bbox_inches='tight')"
      ],
      "metadata": {
        "id": "zXuNby53o_Pe",
        "cellView": "form"
      },
      "execution_count": null,
      "outputs": []
    },
    {
      "cell_type": "code",
      "source": [
        "#@title 2d Fourier spectra before and after filter\n",
        "\n",
        "cut_off = 50\n",
        "\n",
        "fig, ax= plt.subplots(1,2,figsize=(14,5.5))\n",
        "\n",
        "ax[0].set_ylabel(r\"$K_{y}$\",fontsize=25)\n",
        "ax[0].yaxis.labelpad = 5\n",
        "\n",
        "t = 99\n",
        "\n",
        "u = traj[0][t:t+1]\n",
        "v = traj[1][t:t+1]\n",
        "\n",
        "FT_u = (1/(Nx*Ny))*quadrant_flip(np.fft.fft2(u, axes=(1,2)),axes=(1,2))\n",
        "FT_v = (1/(Nx*Ny))*quadrant_flip(np.fft.fft2(v, axes=(1,2)),axes=(1,2))\n",
        "e_kx_ky = (np.abs(FT_u)**2 + np.abs(FT_v)**2)/2\n",
        "\n",
        "im = ax[0].imshow(np.log(e_kx_ky[0]),origin='lower',extent=[-127,128,-127,128]) # ,vmin=0,vmax=0.00001\n",
        "ax[0].set_xlabel(r\"$K_{x}$\",fontsize=25)\n",
        "ax[0].xaxis.labelpad = 18\n",
        "ax[0].tick_params(axis='both', which='major', labelsize=15)\n",
        "\n",
        "fig.subplots_adjust(right=0.8)\n",
        "cbar_ax = fig.add_axes([0.835, 0.125, 0.03, 0.75])\n",
        "fig.colorbar(im,cax=cbar_ax)\n",
        "cbar_ax.get_yaxis().labelpad = 45\n",
        "cbar_ax.set_ylabel(r'$log ( \\hat{E} )$', rotation=270,fontsize=25)\n",
        "cbar_ax.tick_params(axis='both', which='major', labelsize=15)\n",
        "# Low pass filter and plot again\n",
        "\n",
        "u_ = u[0,:,:,np.newaxis]\n",
        "v_ = v[0,:,:,np.newaxis]\n",
        "snap = np.concatenate((u_,v_),axis=2)\n",
        "snap.shape\n",
        "lpf = Low_pass_filter(snap,cut_off)\n",
        "\n",
        "u_ = lpf[np.newaxis,:,:,0]\n",
        "v_ = lpf[np.newaxis,:,:,1]\n",
        "\n",
        "FT_u_ = (1/(Nx*Ny))*quadrant_flip(np.fft.fft2(u_, axes=(1,2)),axes=(1,2))\n",
        "FT_v_ = (1/(Nx*Ny))*quadrant_flip(np.fft.fft2(v_, axes=(1,2)),axes=(1,2))\n",
        "e_kx_ky_ = (np.abs(FT_u_)**2 + np.abs(FT_v_)**2)/2\n",
        "\n",
        "ax[1].imshow(np.log(e_kx_ky_[0]),origin='lower',extent=[-127,128,-127,128]) # ,vmin=0,vmax=0.00001\n",
        "ax[1].set_xlabel(r\"$K_{x}$\",fontsize=25)\n",
        "ax[1].xaxis.labelpad = 18\n",
        "ax[1].tick_params(axis='both', which='major', labelsize=15)\n",
        "\n",
        "plt.savefig('2d_spectrum_filtered.svg', format='svg', bbox_inches='tight')"
      ],
      "metadata": {
        "cellView": "form",
        "id": "qNCIUWdIcs0g"
      },
      "execution_count": null,
      "outputs": []
    },
    {
      "cell_type": "code",
      "source": [
        "\n",
        "#@title 1d Fourier spectra before and after filter\n",
        "\n",
        "fig, ax= plt.subplots(1,2,figsize=(16,6.5))\n",
        "ax[0].set_ylabel(r'$D(n)$',fontsize=20)\n",
        "ax[0].set_xlabel(r'$n$',fontsize=20)\n",
        "ax[1].set_xlabel(r'$n$',fontsize=20)\n",
        "ax[0].yaxis.labelpad = 18\n",
        "ax[0].xaxis.labelpad = 18\n",
        "ax[1].xaxis.labelpad = 18\n",
        "ax[0].set(yscale=\"log\")\n",
        "ax[1].set(yscale=\"log\")\n",
        "ax[0].set(ylim=(1e-28, 100))\n",
        "ax[1].set(ylim=(1e-28, 100))\n",
        "ax[0].set(xlim=(-5, 150))\n",
        "ax[1].set(xlim=(-5, 150))\n",
        "\n",
        "def default_value():\n",
        "    return 0\n",
        "\n",
        "# Forming an array of wavenumber magnitudes to correspond to the FT_u and FT_v arrays.\n",
        "kx = 2*np.pi*np.fft.fftfreq(Nx,Lx/Nx)\n",
        "ky = 2*np.pi*np.fft.fftfreq(Ny,Ly/Ny)\n",
        "# Reordering kx into ascending wavenumber order.\n",
        "kx = np.concatenate((kx[Nx//2:],kx[0:Nx//2]))\n",
        "ky = np.concatenate((ky[Ny//2:],ky[0:Ny//2]))\n",
        "kx2 = kx**2\n",
        "ky2 = ky**2\n",
        "K_grid = np.sqrt( np.tile(kx2,(Ny,1)) + np.tile(np.array([ky2]).T,(1,Nx)) )\n",
        "K_grid_rounded = K_grid.round().astype(int)   # This is used to match with CK13 graphic.\n",
        "K_grid_sqd = np.power(K_grid,2).astype(int)\n",
        "\n",
        "# In dictionary K_coeffs the keys are the wavenumber magnitudes squared and \n",
        "# the values are the FT coefficient 'energies'\n",
        "\n",
        "\n",
        "energy_dict = defaultdict(default_value)\n",
        "\n",
        "for i in range(Ny):\n",
        "  energy_dict[K_grid_rounded[i,0]] += e_kx_ky[0,i,0]    # First column does not match with a -k, so is not doubled.\n",
        "\n",
        "  for j in range(1,Nx//2+1):                        \n",
        "    energy_dict[K_grid_rounded[i,j]] += 2*e_kx_ky[0,i,j]    # Using symmetry E(-k)=E(k) so all these values are doubled.\n",
        "\n",
        "energy_dict[K_grid_rounded[Ny//2,Nx//2]] = energy_dict[K_grid_rounded[Nx//2,Ny//2]]/2    # These values were double counted. ( (0,128) , (128,128) )\n",
        "energy_dict[K_grid_rounded[0,Ny//2]] = energy_dict[K_grid_rounded[0,Ny//2]]/2\n",
        "\n",
        "wavenumbers = list(energy_dict.keys())\n",
        "coeffs=list(energy_dict.values())\n",
        "sns.scatterplot(wavenumbers,coeffs,label=f'Re = {Re}',ax=ax[0])\n",
        "\n",
        "\n",
        "# For filtered snapshot\n",
        "\n",
        "energy_dict = defaultdict(default_value)\n",
        "\n",
        "for i in range(Ny):\n",
        "  energy_dict[K_grid_rounded[i,0]] += e_kx_ky_[0,i,0]    # First column does not match with a -k, so is not doubled.\n",
        "\n",
        "  for j in range(1,Nx//2+1):                        \n",
        "    energy_dict[K_grid_rounded[i,j]] += 2*e_kx_ky_[0,i,j]    # Using symmetry E(-k)=E(k) so all these values are doubled.\n",
        "\n",
        "energy_dict[K_grid_rounded[Ny//2,Nx//2]] = energy_dict[K_grid_rounded[Nx//2,Ny//2]]/2    # These values were double counted. ( (0,128) , (128,128) )\n",
        "energy_dict[K_grid_rounded[0,Ny//2]] = energy_dict[K_grid_rounded[0,Ny//2]]/2\n",
        "\n",
        "wavenumbers = list(energy_dict.keys())\n",
        "coeffs=list(energy_dict.values())\n",
        "sns.scatterplot(wavenumbers,coeffs,label=f'Re = {Re}',ax=ax[1])\n",
        "\n",
        "#plt.savefig('1d_spectra.svg', format='svg', bbox_inches='tight')"
      ],
      "metadata": {
        "cellView": "form",
        "id": "wzRPglhbfGjM"
      },
      "execution_count": null,
      "outputs": []
    },
    {
      "cell_type": "markdown",
      "source": [
        "# POST FILTERING TESTING PLOTS"
      ],
      "metadata": {
        "id": "Zdzwk6wJdoID"
      }
    },
    {
      "cell_type": "code",
      "source": [
        "#@title Cutoff vs RMSE\n",
        "\n",
        "cut_offs = [1,1.6,2,2.6,3,3.4,4,5,6,7,8,9,10,15,20]\n",
        "rmses = []\n",
        "for c in cut_offs :\n",
        "  file = open( f'Data/LPF predictions/predictions_LPF_{c}.pickle', 'rb')\n",
        "  (predictions,y_test) = pickle.load( file )\n",
        "  file.close()\n",
        "\n",
        "  n = len(predictions)\n",
        "  rmses.append(np.sqrt(np.sum((predictions-y_test)**2)/n))\n",
        "\n",
        "\n",
        "\n",
        "fig,axis = plt.subplots(1,figsize=(10,7))\n",
        "axis.plot(cut_offs,rmses,marker=\".\",markerfacecolor='black', markersize=16,linewidth=3)\n",
        "axis.axhline(2.405,color='grey',linewidth=2).set_linestyle(\"--\")\n",
        "\n",
        "axis.set(xlim=(0,17))\n",
        "axis.set(ylim=(0,11))\n",
        "axis.set_ylabel(r\"RMSE\",fontsize=25)\n",
        "axis.set_xlabel(r\"Filter cut-off\",fontsize=25)\n",
        "axis.yaxis.labelpad = 35\n",
        "axis.xaxis.labelpad = 20\n",
        "axis.tick_params(labelsize=20)\n",
        "\n",
        "fig.savefig('cutoff_rmse.svg', bbox_inches='tight')"
      ],
      "metadata": {
        "cellView": "form",
        "id": "xCgmk2FHawk5"
      },
      "execution_count": null,
      "outputs": []
    },
    {
      "cell_type": "code",
      "source": [
        "#@title Import predictions data (LR3_D3_M3) and set up  \n",
        "\n",
        "cut_off = 2\n",
        "\n",
        "file = open( f'Data/LPF predictions/predictions_LPF_{cut_off}.pickle', 'rb' )\n",
        "(predictions,y_test) = pickle.load( file )\n",
        "file.close()\n",
        "\n",
        "n = len(predictions)\n",
        "\n",
        "diff = predictions - y_test\n",
        "translation = 0\n",
        "\n",
        "print(\"RMSE = \",np.sqrt(np.sum((predictions+translation-y_test)**2)/n))"
      ],
      "metadata": {
        "colab": {
          "base_uri": "https://localhost:8080/"
        },
        "id": "e_af8fBL5ki-",
        "outputId": "24401761-1a0e-48c8-d64b-d8e6440bc732",
        "cellView": "form"
      },
      "execution_count": null,
      "outputs": [
        {
          "output_type": "stream",
          "name": "stdout",
          "text": [
            "RMSE =  5.126061064987165\n"
          ]
        }
      ]
    },
    {
      "cell_type": "code",
      "source": [
        "#@title All errors histogram\n",
        "\n",
        "fig, axis = plt.subplots(1,2,figsize=(18,6),gridspec_kw={'width_ratios': [1,1.2]})\n",
        "plt.suptitle(f'Filtered : cut-off = {cut_off}',fontsize=30)\n",
        "\n",
        "bin_w = 1\n",
        "bins = int(50/bin_w) +1\n",
        "bias = np.zeros(bins)\n",
        "count = np.zeros(bins)\n",
        "\n",
        "for i in range(n) :\n",
        "  bin = int( (y_test[i] - 29.99)//bin_w )\n",
        "  bias[bin] += diff[i]\n",
        "  count[bin] += 1\n",
        "\n",
        "bias = bias/count\n",
        "\n",
        "Range = (50*(np.array((range(bins)))/bins))+30\n",
        "\n",
        "axis[0].bar(Range,bias)\n",
        "axis[0].set(ylim=(-5.5,4.5))\n",
        "\n",
        "\n",
        "\n",
        "sns.histplot(x=y_test,y=diff,bins=51,cbar=True,ax=axis[1])\n",
        "\n",
        "axis[1].axhline(0,color='black',linewidth=2).set_linestyle(\"--\")\n",
        "\n",
        "axis[0].set_ylabel(r'bias',fontsize=25)\n",
        "axis[1].set_xlabel(\"Re\",fontsize=25)\n",
        "axis[0].set_xlabel(\"Re\",fontsize=25)\n",
        "axis[0].yaxis.labelpad = 5\n",
        "axis[1].xaxis.labelpad = 20\n",
        "axis[0].xaxis.labelpad = 20\n",
        "axis[0].tick_params(labelsize=20)\n",
        "axis[1].tick_params(labelsize=20)\n",
        "\n",
        "fig.savefig('pred_bias_co3.svg', bbox_inches='tight')"
      ],
      "metadata": {
        "colab": {
          "base_uri": "https://localhost:8080/",
          "height": 470
        },
        "id": "3sjWLvpy5bhe",
        "outputId": "db9046dd-79fd-4247-efff-10ab2e772a1a",
        "cellView": "form"
      },
      "execution_count": null,
      "outputs": [
        {
          "output_type": "display_data",
          "data": {
            "text/plain": [
              "<Figure size 1296x432 with 3 Axes>"
            ],
            "image/png": "[encoded data removed]"
          },
          "metadata": {
            "needs_background": "light"
          }
        }
      ]
    },
    {
      "cell_type": "code",
      "source": [
        "#@title RMSE (of each bin) histogram\n",
        "\n",
        "fig, axis = plt.subplots(1,2,figsize=(20,8))\n",
        "axis[0].set_title(f'Filtered : cut-off = {cut_off}',fontsize=30,y=1.04)\n",
        "red = sns.color_palette('muted')[3]\n",
        "\n",
        "se = ((diff)**2)\n",
        "bin_w = 3\n",
        "bins = int(51/bin_w)\n",
        "sum_se = np.zeros(bins)\n",
        "count = np.zeros(bins)\n",
        "\n",
        "for i in range(n) :\n",
        "  bin = int( (y_test[i] - 30)//bin_w )\n",
        "  sum_se[bin] += se[i]\n",
        "  count[bin] += 1\n",
        "\n",
        "mse = sum_se/count\n",
        "rmse = np.sqrt(mse)\n",
        "\n",
        "Range = ((51*(np.array((range(bins)))/bins))+31).astype(int)\n",
        "\n",
        "axis[1].set_title(f'Predictions Translated (+1.5)',fontsize=30,y=1.04)\n",
        "\n",
        "se1 = ((diff+1.5)**2)\n",
        "bin_w = 3\n",
        "bins = int(51/bin_w)\n",
        "sum_se1 = np.zeros(bins)\n",
        "count1 = np.zeros(bins)\n",
        "\n",
        "for i in range(n) :\n",
        "  bin = int( (y_test[i] - 30)//bin_w )\n",
        "  sum_se1[bin] += se1[i]\n",
        "  count1[bin] += 1\n",
        "\n",
        "mse1 = sum_se1/count\n",
        "rmse1 = np.sqrt(mse1)\n",
        "\n",
        "\n",
        "sns.barplot(Range,rmse,color=red,ax=axis[0])\n",
        "sns.barplot(Range,rmse1,color=red,ax=axis[1])\n",
        "\n",
        "axis[0].set_ylabel(r\"$\\mathrm{RMSE}_{\\mathrm{I}}$\",fontsize=25)\n",
        "axis[0].set_xlabel(r\"Re\",fontsize=25)\n",
        "axis[1].set_xlabel(r\"Re\",fontsize=25)\n",
        "axis[0].yaxis.labelpad = 35\n",
        "axis[0].xaxis.labelpad = 20\n",
        "axis[1].xaxis.labelpad = 20\n",
        "axis[0].tick_params(labelsize=20)\n",
        "axis[1].tick_params(labelsize=20)\n",
        "\n",
        "axis[0].set(ylim=(0,18))\n",
        "axis[1].set(ylim=(0,18))\n",
        "\n",
        "fig.savefig('pred_rmse_co3.svg', bbox_inches='tight')"
      ],
      "metadata": {
        "colab": {
          "base_uri": "https://localhost:8080/",
          "height": 671
        },
        "id": "NWMqzaGy5YM3",
        "outputId": "7053db54-3a52-4c5d-9364-a104a57b69b3",
        "cellView": "form"
      },
      "execution_count": null,
      "outputs": [
        {
          "output_type": "stream",
          "name": "stderr",
          "text": [
            "/usr/local/lib/python3.7/dist-packages/seaborn/_decorators.py:43: FutureWarning: Pass the following variables as keyword args: x, y. From version 0.12, the only valid positional argument will be `data`, and passing other arguments without an explicit keyword will result in an error or misinterpretation.\n",
            "  FutureWarning\n",
            "/usr/local/lib/python3.7/dist-packages/seaborn/_decorators.py:43: FutureWarning: Pass the following variables as keyword args: x, y. From version 0.12, the only valid positional argument will be `data`, and passing other arguments without an explicit keyword will result in an error or misinterpretation.\n",
            "  FutureWarning\n"
          ]
        },
        {
          "output_type": "display_data",
          "data": {
            "text/plain": [
              "<Figure size 1440x576 with 2 Axes>"
            ],
            "image/png": "[encoded data removed]"
          },
          "metadata": {
            "needs_background": "light"
          }
        }
      ]
    },
    {
      "cell_type": "code",
      "source": [],
      "metadata": {
        "id": "Bu_HPjimCY1z"
      },
      "execution_count": null,
      "outputs": []
    },
    {
      "cell_type": "code",
      "source": [
        "#@title The number of terms at a given cut-off.\n",
        "\n",
        "cut_off = 500\n",
        "\n",
        "Nx,Ny = 256,256\n",
        "kx = 2*np.pi*np.fft.fftfreq(Nx,(2*np.pi)/Nx)\n",
        "ky = 2*np.pi*np.fft.fftfreq(Ny,(2*np.pi)/Ny)\n",
        "kx2 = kx**2\n",
        "ky2 = ky**2\n",
        "K_grid = np.sqrt( np.tile(kx2,(Ny,1)) + np.tile(np.array([ky2]).T,(1,Nx)) )\n",
        "count = 0\n",
        "\n",
        "for i in range(Nx) :      # Could make this a lot more efficient by (1) only doing for loop over square of points around zero after reordering (with side length 2*cut_off) (2) using symmetry properties.\n",
        "  \n",
        "  for j in range(Ny) :\n",
        "\n",
        "    if K_grid[i,j] <= cut_off :\n",
        "      count += 1\n",
        "\n",
        "print(count)"
      ],
      "metadata": {
        "id": "vZCi2Znx8K5n",
        "colab": {
          "base_uri": "https://localhost:8080/"
        },
        "outputId": "2a5978c0-6d31-4168-ea14-90ebe57f8a18",
        "cellView": "form"
      },
      "execution_count": null,
      "outputs": [
        {
          "output_type": "stream",
          "name": "stdout",
          "text": [
            "65536\n"
          ]
        }
      ]
    },
    {
      "cell_type": "code",
      "source": [],
      "metadata": {
        "id": "lbk3IdB730GT"
      },
      "execution_count": null,
      "outputs": []
    }
  ]
}